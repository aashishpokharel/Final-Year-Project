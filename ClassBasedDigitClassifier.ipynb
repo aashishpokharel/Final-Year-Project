{
 "cells": [
  {
   "cell_type": "code",
   "execution_count": 9,
   "id": "5d63ed8c",
   "metadata": {},
   "outputs": [],
   "source": [
    "import numpy as np\n",
    "import pandas as pd\n",
    "import matplotlib.pyplot as plt\n",
    "import pickle\n",
    "np.random.seed(42)"
   ]
  },
  {
   "cell_type": "code",
   "execution_count": 2,
   "id": "acd65f95",
   "metadata": {},
   "outputs": [],
   "source": [
    "charset = {\n",
    "                'digit_0' : 0,\n",
    "                'digit_1' : 1,\n",
    "                'digit_2' : 2,\n",
    "                'digit_3' : 3,\n",
    "                'digit_4' : 4,\n",
    "                'digit_5' : 5,\n",
    "                'digit_6' : 6,\n",
    "                'digit_7' : 7,\n",
    "                'digit_8' : 8,\n",
    "                'digit_9' : 9,\n",
    "}\n",
    "train_data = pd.read_csv('./dataset/train_digits_data.csv')\n",
    "test_data  = pd.read_csv('./dataset/test_digits_data.csv')\n",
    "X_train = train_data.iloc[:, :-1].values\n",
    "y_train = train_data.iloc[:, -1]\n",
    "y_train = y_train.replace(charset)\n",
    "from sklearn.model_selection import train_test_split\n",
    "X_train, X_test, y_train, y_test = train_test_split(X_train, y_train, test_size = .2)"
   ]
  },
  {
   "cell_type": "code",
   "execution_count": 3,
   "id": "a61885a3",
   "metadata": {},
   "outputs": [],
   "source": [
    "from sklearn.preprocessing import MinMaxScaler\n",
    "mm = MinMaxScaler()\n",
    "X_train = mm.fit_transform(X_train)\n",
    "# X_dev   = mm.fit_transform(X_dev)\n",
    "X_test = mm.fit_transform(X_test)"
   ]
  },
  {
   "cell_type": "code",
   "execution_count": null,
   "id": "fd5185ba",
   "metadata": {},
   "outputs": [],
   "source": []
  },
  {
   "cell_type": "code",
   "execution_count": 4,
   "id": "8f76d683",
   "metadata": {},
   "outputs": [
    {
     "name": "stdout",
     "output_type": "stream",
     "text": [
      "Data\t\t\t Before Processing\t After Processing\n",
      "=================================================================\n",
      "Training Set Images:\t(17000, 1025)\t\t(13600, 1024)\n",
      "Training Set Labels:\t(17000,)\t\t(13600,)\n",
      "Test Set Images:\t(3000, 1025)\t\t(3400, 1024)\n",
      "Test Set Labels:\t(3000,)\t\t\t(3000,)\n",
      "=================================================================\n"
     ]
    }
   ],
   "source": [
    "print(\"Data\\t\\t\\t\",\"Before Processing\\t\",\"After Processing\")\n",
    "print(\"=================================================================\")\n",
    "print(\"Training Set Images:\\t\" + str(train_data.shape)+\"\\t\\t\"+ str(X_train.shape))\n",
    "print(\"Training Set Labels:\\t\" + str(train_data.iloc[:, -1].shape)+\"\\t\\t\"+ str(y_train.shape))\n",
    "# print(\"Dev Set Images:\\t\\t\" + str(X_dev.shape)+\"\\t\\t\"+ str(X_dev.shape))\n",
    "# print(\"Dev Set Labels:\\t\\t\" + str(y_dev.shape)+\"\\t\\t\\t\"+ str(y_dev.shape))\n",
    "print(\"Test Set Images:\\t\" + str(test_data.shape)+\"\\t\\t\"+ str(X_test.shape))\n",
    "print(\"Test Set Labels:\\t\" + str(test_data.iloc[:, -1].shape)+\"\\t\\t\\t\"+ str(test_data.iloc[:, -1].shape))\n",
    "print(\"=================================================================\")"
   ]
  },
  {
   "cell_type": "code",
   "execution_count": 5,
   "id": "a695ef99",
   "metadata": {},
   "outputs": [],
   "source": [
    "\n",
    "class Classifier:\n",
    "    def __init__(self, n_inputs, n_neurons = [32,32,10]):\n",
    "        np.random.seed(42)\n",
    "    # We have done here n_inputs/n_neurons instead of n_neurons/n_inputs to prevent the Transpose everytime\n",
    "        self.weights1 = 0.01 * np.random.randn(n_inputs, n_neurons[0]) # The input shape and no of neurons you want to have in the layer\n",
    "        self.biases1 =  0.01 * np.random.randn(1, n_neurons[0])\n",
    "        self.weights2 = 0.01 *np.random.randn(n_neurons[0], n_neurons[1]) # The input shape and no of neurons you want to have in the layer\n",
    "        self.biases2 = 0.01 * np.random.randn(1, n_neurons[1])\n",
    "        self.weights3 = 0.01 * np.random.randn(n_neurons[1], n_neurons[2])\n",
    "        self.biases3 = 0.01 * np.random.randn(1, n_neurons[2])\n",
    "        self.output1 = None\n",
    "        self.output2 = None\n",
    "        self.output3 = None\n",
    "        self.X = None\n",
    "        self.y = None\n",
    "        # activatied outputs\n",
    "        self.output1_act = None\n",
    "        self.output2_act = None\n",
    "        self.output3_act = None\n",
    "    def forward(self, inputs, weights, biases):\n",
    "        \"\"\" The dot product of the input - weights - Biases (y = Wx + b) \"\"\"\n",
    "        output = np.dot(inputs, weights) + biases\n",
    "        if(np.isnan(np.sum(output))):\n",
    "            raise Exception(\"NaN values present in FW pass\")\n",
    "        elif(np.isinf(np.sum(output))):\n",
    "            raise Exception(\"INF values present in FW Pass\")\n",
    "        \n",
    "        return output\n",
    "\n",
    "    def ReLU(self, inputs):\n",
    "        \"\"\" Rectified Linear Activation Function \"\"\"\n",
    "        output = np.maximum(0, inputs)\n",
    "        return output\n",
    "    \n",
    "    def Softmax(self, inputs):\n",
    "    # subtract largest value to prevent overflow\n",
    "        self.inputs = inputs\n",
    "\n",
    "        # Get unnormalized probabilities\n",
    "        exp_values = np.exp(inputs - np.max(inputs, axis=1,\n",
    "                                            keepdims=True))\n",
    "        # Normalize them for each sample\n",
    "        probabilities = exp_values / np.sum(exp_values, axis=1,\n",
    "                                            keepdims=True)\n",
    "\n",
    "        if(np.isnan(np.sum(probabilities))):\n",
    "            raise Exception(\"NaN values present in Softmax For\")\n",
    "        elif(np.isinf(np.sum(probabilities))):\n",
    "            raise Exception(\"INF values present in Softmax For\")\n",
    "        \n",
    "        return probabilities\n",
    "        \n",
    "    def categorical_cross_entropy(self,y_pred, y_true):\n",
    "        samples = len(y_pred)\n",
    "        y_pred_clipped = np.clip(y_pred, 1e-6, 1-1e-6)\n",
    "        # Handling if labels are 1D \n",
    "        correct_confidences = None\n",
    "        if len(y_true.shape) == 1:\n",
    "#             print(y_pred_clipped[range(samples), :].shape)\n",
    "            correct_confidences = y_pred_clipped[range(samples), y_true]\n",
    "        elif len(y_true.shape) ==2:\n",
    "            correct_confidences = np.sum(y_pred_clipped * y_true, axis =1)\n",
    "        else:\n",
    "            raise Exception(\"Sorry, no numbers below zero\")\n",
    "        \n",
    "        negative_log_likelihoods = -np.log(correct_confidences)\n",
    "#         print(negative_log_likelihoods.shape)\n",
    "        return negative_log_likelihoods \n",
    "    \n",
    "    def linear_backward(self,inputs, weights, dvalues):\n",
    "        self.dweights_linear = np.dot(inputs.T, dvalues)\n",
    "        self.dbiases_linear = np.sum(dvalues, axis=0, keepdims=True)\n",
    "        # Gradient on values\n",
    "        self.dinput_linear = np.dot(dvalues, weights.T)\n",
    "        \n",
    "        if(np.isnan(np.sum(self.dweights_linear))):\n",
    "            raise Exception(\"NaN values present in Linear Back\")\n",
    "        elif(np.isinf(np.sum(self.dweights_linear))):\n",
    "            raise Exception(\"INF values present in Linear BAck\")\n",
    "        \n",
    "        \n",
    "        return self.dweights_linear, self.dinput_linear\n",
    "    \n",
    "    def linear_backward_with_l2(self,inputs, weights, dvalues, lambd = 0.5):\n",
    "        \"\"\"  \"\"\"\n",
    "        m = inputs.shape[1]\n",
    "        self.dweights_linear = np.dot(inputs.T, dvalues) + (lambd*weights)/m\n",
    "        self.dbiases_linear = np.sum(dvalues, axis=0, keepdims=True)\n",
    "        # Gradient on values\n",
    "        self.dinput_linear = np.dot(dvalues, weights.T) \n",
    "        \n",
    "        if(np.isnan(np.sum(self.dweights_linear))):\n",
    "            raise Exception(\"NaN values present in Linear Back\")\n",
    "        elif(np.isinf(np.sum(self.dweights_linear))):\n",
    "            raise Exception(\"INF values present in Linear BAck\")\n",
    "        \n",
    "        \n",
    "        return self.dweights_linear, self.dinput_linear\n",
    "    \n",
    "    def softmax_backward(self,dA, Z):\n",
    "        \"\"\"Compute backward pass for softmax activation\"\"\"\n",
    "        softmax_output = Softmax(Z) \n",
    "        return softmax_output * (1 - softmax_output) * dA\n",
    "\n",
    "    def ReLU_backward(self,dA, Z):\n",
    "        \n",
    "        dZ = np.array(dA, copy=True)\n",
    "        dZ[Z <= 0] = 0\n",
    "        if(np.isnan(np.sum(dZ))):\n",
    "            raise Exception(\"NaN values present in RELU Back\")\n",
    "        elif(np.isinf(np.sum(dZ))):\n",
    "            raise Exception(\"INF values present in RELU BAck\")\n",
    "        return dZ\n",
    "        \n",
    "    def categorical_cross_entropy_backward(self, dvalues, y_true):\n",
    "        # Number of samples\n",
    "        samples = len(dvalues)\n",
    "        labels = len(dvalues[0])\n",
    "        # If labels are sparse, turn them into one-hot vector\n",
    "        if len(y_true.shape) == 1:\n",
    "            y_true = np.eye(labels)[y_true]\n",
    "        # Calculate gradient\n",
    "        self.dinputs = -y_true / dvalues\n",
    "        # Normalize gradient\n",
    "        self.dinputs_loss = self.dinputs / samples\n",
    "        if(np.isnan(np.sum(self.dinputs))):\n",
    "            raise Exception(\"NaN values present in Softmax Back\")\n",
    "        elif(np.isinf(np.sum(self.dinputs))):\n",
    "            raise Exception(\"INF values present in Softmax_back\")\n",
    "        return self.dinputs\n",
    "    \n",
    "    def softmax_categorical_cross_entropy_combined_backward(self, dvalues, y_true):\n",
    "        samples = len(dvalues)\n",
    "        #handling Ohe values\n",
    "        if len(y_true.shape) == 2:\n",
    "            y_true = np.argmax(y_true, axis=1)\n",
    "        # Copy so we can safely modify\n",
    "        self.dinputs_combined = dvalues.copy()\n",
    "        # Calculate gradient\n",
    "        self.dinputs_combined[range(samples), y_true] -= 1\n",
    "        # Normalize gradient\n",
    "        self.dinputs_combined = self.dinputs_combined / samples\n",
    "        if(np.isnan(np.sum(self.dinputs_combined))):\n",
    "            raise Exception(\"NaN values present in Softmax Back\")\n",
    "        elif(np.isinf(np.sum(self.dinputs_combined))):\n",
    "            raise Exception(\"INF values present in Softmax_back\")\n",
    "       \n",
    "        return self.dinputs_combined\n",
    "        \n",
    "    \n",
    "    def compute_loss(self,y_pred, y_true):\n",
    "        sample_losses = self.categorical_cross_entropy(y_pred, y_true)\n",
    "        loss = np.mean(sample_losses)\n",
    "        return loss\n",
    "    \n",
    "    def compute_loss_with_l2(self,y_pred, y_true, lambd = 0.5):\n",
    "        m = 10\n",
    "        sample_losses = self.categorical_cross_entropy(y_pred, y_true)\n",
    "        L2_regularization_cost = (lambd/(2*m))*(np.sum(np.square(self.weights1) + np.sum(np.square(self.weights2) + np.sum(np.square(self.weights3)))))\n",
    "        loss = np.mean(sample_losses) \n",
    "        return loss\n",
    "    \n",
    "    \n",
    "    def forward_pass(self, X):\n",
    "        self.X = X\n",
    "        self.output1     = self.forward(self.X, self.weights1, self.biases1)\n",
    "        self.output1_act = self.ReLU(self.output1)\n",
    "        self.output2     = self.forward(self.output1_act, self.weights2, self.biases2)\n",
    "        self.output2_act = self.ReLU(self.output2)\n",
    "        self.output3     = self.forward(self.output2_act, self.weights3, self.biases3)\n",
    "        self.output3_act = self.Softmax(self.output3)\n",
    "#         print(\"Softmax SUM\", np.sum(self.output3_act, axis = 1))\n",
    "        if(np.isnan(np.sum(self.output3_act))):\n",
    "            raise Exception(\"NaN values present in data\")\n",
    "        elif(np.isinf(np.sum(self.output3_act))):\n",
    "            raise Exception(\"INF values present in data\")\n",
    "        \n",
    "        \n",
    "    def check_inf(self):\n",
    "        check_weights = np.any(np.isinf(self.weights1)) or np.any(np.isinf(self.weights2)) or np.any(np.isinf(self.weights3))\n",
    "        check_bias    = np.any(np.isinf(self.biases1)) or np.any(np.isinf(self.biases2)) or np.any(np.isinf(self.biases3))\n",
    "        return (check_weights or check_bias)\n",
    "    \n",
    "    def backward_pass(self, y, learning_rate= 0.1, iteration = 10000):\n",
    "        self.y = y\n",
    "        for i in range(iteration):\n",
    "            self.forward_pass(self.X)\n",
    "            predictions = np.argmax(self.output3_act, axis=1)\n",
    "            \n",
    "            \n",
    "            gradient_output3_act                  = self.softmax_categorical_cross_entropy_combined_backward(self.output3_act, self.y)\n",
    "            gradient_output3, gradient_input3     = self.linear_backward(self.output2,self.weights3,gradient_output3_act)\n",
    "            gradient_output2_act                  = self.ReLU_backward(gradient_input3, self.output2)\n",
    "            gradient_output2, gradient_input2     = self.linear_backward(self.output1, self.weights2, gradient_output2_act)\n",
    "            gradient_output1_act                  = self.ReLU_backward(gradient_input2, self.output1)\n",
    "            gradient_output1, gradient_input1     = self.linear_backward(self.X, self.weights1, gradient_output1_act)\n",
    "            \n",
    "            self.weights3  = self.weights3 - learning_rate * gradient_output3\n",
    "            self.weights2  = self.weights2 - learning_rate * gradient_output2\n",
    "            self.weights1  = self.weights1 - learning_rate * gradient_output1\n",
    "            assert np.sum(gradient_output1) != np.nan, \"The gradient has nan\"\n",
    "            assert np.sum(gradient_output1) != np.inf, \"The gradient has inf\"\n",
    "            if i%100 == 0:\n",
    "\n",
    "                loss = self.compute_loss(self.output3_act, y)\n",
    "                self.accuracy = np.mean(predictions==self.y)\n",
    "                if(self.accuracy > 99.0):\n",
    "                    break\n",
    "                print(f'Loss after a iteration {i}:{loss} || Accuracy: {self.accuracy * 100}')\n",
    "                \n",
    "    def backward_pass_with_l2(self, y, learning_rate= 0.1, iteration = 10000):\n",
    "        self.y = y\n",
    "        self.loss_list = []\n",
    "        self.acc_list = []\n",
    "        for i in range(iteration):\n",
    "            self.forward_pass(self.X)\n",
    "            predictions = np.argmax(self.output3_act, axis=1)\n",
    "            \n",
    "            \n",
    "            gradient_output3_act                  = self.softmax_categorical_cross_entropy_combined_backward(self.output3_act, self.y)\n",
    "            gradient_output3, gradient_input3     = self.linear_backward_with_l2(self.output2,self.weights3,gradient_output3_act)\n",
    "            gradient_output2_act                  = self.ReLU_backward(gradient_input3, self.output2)\n",
    "            gradient_output2, gradient_input2     = self.linear_backward_with_l2(self.output1, self.weights2, gradient_output2_act)\n",
    "            gradient_output1_act                  = self.ReLU_backward(gradient_input2, self.output1)\n",
    "            gradient_output1, gradient_input1     = self.linear_backward_with_l2(self.X, self.weights1, gradient_output1_act)\n",
    "            \n",
    "            self.weights3  = self.weights3 - learning_rate * gradient_output3\n",
    "            self.weights2  = self.weights2 - learning_rate * gradient_output2\n",
    "            self.weights1  = self.weights1 - learning_rate * gradient_output1\n",
    "            assert np.sum(gradient_output1) != np.nan, \"The gradient has nan\"\n",
    "            assert np.sum(gradient_output1) != np.inf, \"The gradient has inf\"\n",
    "            loss = self.compute_loss_with_l2(self.output3_act, y)\n",
    "            self.accuracy = np.mean(predictions==self.y)\n",
    "            if i%100 == 0:\n",
    "                self.loss_list.append(loss)\n",
    "                self.acc_list.append(self.accuracy)\n",
    "                if(self.accuracy > .99):\n",
    "                    break\n",
    "                print(f'Loss after a iteration {i}:{loss} || Accuracy: {self.accuracy * 100}')\n",
    "        plt.plot(self.loss_list)\n",
    "        plt.title(\"Training loss of the model\")\n",
    "    def load_model(self, weights, biases):\n",
    "        self.weights1 = weights['1']\n",
    "        self.weights2 = weights['2']\n",
    "        self.weights3 = weights['3']\n",
    "        \n",
    "        self.biases1 = weights['b1']\n",
    "        self.biases2 = weights['b2']\n",
    "        self.biases3 = weights['b3']\n",
    "    \n",
    "    def save_model(self, filename = f'model.pkl'):\n",
    "        from datetime import date\n",
    "\n",
    "        today = date.today()\n",
    "\n",
    "        filename = f'model_{self.accuracy}-{today}.pkl'\n",
    "        weights = {\n",
    "                    '1': self.weights1, '2': self.weights2, '3': self.weights3, \n",
    "                    'b1':self.biases1,'b2':self.biases2,'b3':self.biases3\n",
    "        }\n",
    "        pickle.dump(weights, open(filename, 'wb'))\n",
    "        \n",
    "\n",
    "    def predict(self, X_test):\n",
    "        output1     = self.forward(X_test, self.weights1, self.biases1)\n",
    "        output1_act = self.ReLU(output1)\n",
    "        output2     = self.forward(output1_act, self.weights2, self.biases2)\n",
    "        output2_act = self.ReLU(output2)\n",
    "        output3     = self.forward(output2_act, self.weights3, self.biases3)\n",
    "        output3_act = self.Softmax(output3)\n",
    "        prediction, prediction_prob = np.argmax(output3_act, axis=1), np.max(output3_act, axis=1)\n",
    "        return prediction, output3_act\n"
   ]
  },
  {
   "cell_type": "code",
   "execution_count": 7,
   "id": "f16fc187",
   "metadata": {
    "scrolled": true
   },
   "outputs": [
    {
     "name": "stdout",
     "output_type": "stream",
     "text": [
      "Loss after a iteration 0:2.302677164824908 || Accuracy: 9.88970588235294\n",
      "Loss after a iteration 100:2.302515542595861 || Accuracy: 9.88970588235294\n",
      "Loss after a iteration 200:2.3022127735814624 || Accuracy: 9.88970588235294\n",
      "Loss after a iteration 300:2.300683098220567 || Accuracy: 9.88970588235294\n",
      "Loss after a iteration 400:2.182657292285168 || Accuracy: 21.97794117647059\n",
      "Loss after a iteration 500:1.4683099749842623 || Accuracy: 39.38970588235294\n",
      "Loss after a iteration 600:0.8797050229800318 || Accuracy: 69.33088235294119\n",
      "Loss after a iteration 700:0.6028793855155222 || Accuracy: 78.03676470588236\n",
      "Loss after a iteration 800:0.5310540704291291 || Accuracy: 80.11029411764706\n",
      "Loss after a iteration 900:0.4879849582026894 || Accuracy: 82.27205882352942\n",
      "Loss after a iteration 1000:0.44330377050061814 || Accuracy: 84.18382352941177\n",
      "Loss after a iteration 1100:0.3811342484782405 || Accuracy: 87.55147058823529\n",
      "Loss after a iteration 1200:0.34351750182304064 || Accuracy: 89.61764705882352\n",
      "Loss after a iteration 1300:0.32504589252958355 || Accuracy: 90.2720588235294\n",
      "Loss after a iteration 1400:0.3116099262430049 || Accuracy: 90.8235294117647\n",
      "Loss after a iteration 1500:0.29914956911663243 || Accuracy: 91.32352941176471\n",
      "Loss after a iteration 1600:0.28724188557406055 || Accuracy: 91.71323529411765\n",
      "Loss after a iteration 1700:0.2740894134933013 || Accuracy: 92.15441176470588\n",
      "Loss after a iteration 1800:0.2609544508131522 || Accuracy: 92.625\n",
      "Loss after a iteration 1900:0.24868312799584147 || Accuracy: 92.98529411764706\n",
      "Loss after a iteration 2000:0.23891875633709403 || Accuracy: 93.30147058823529\n",
      "Loss after a iteration 2100:0.23073890540938669 || Accuracy: 93.42647058823529\n",
      "Loss after a iteration 2200:0.22372124714168914 || Accuracy: 93.58823529411765\n",
      "Loss after a iteration 2300:0.21791952352513533 || Accuracy: 93.75735294117648\n",
      "Loss after a iteration 2400:0.21323361547781702 || Accuracy: 93.86029411764706\n",
      "Loss after a iteration 2500:0.20387842581982452 || Accuracy: 94.34558823529412\n",
      "Loss after a iteration 2600:0.23079753712516818 || Accuracy: 92.5\n",
      "Loss after a iteration 2700:0.1937135737288496 || Accuracy: 94.80147058823529\n",
      "Loss after a iteration 2800:0.19252432408572343 || Accuracy: 94.81617647058823\n",
      "Loss after a iteration 2900:0.1861335756109253 || Accuracy: 95.06617647058823\n",
      "Loss after a iteration 3000:0.1837246600049155 || Accuracy: 95.08823529411765\n",
      "Loss after a iteration 3100:0.18235665979884821 || Accuracy: 95.13235294117646\n",
      "Loss after a iteration 3200:0.17830672547173002 || Accuracy: 95.26470588235294\n",
      "Loss after a iteration 3300:0.17634454758902202 || Accuracy: 95.34558823529412\n",
      "Loss after a iteration 3400:0.1750073038146807 || Accuracy: 95.41911764705883\n",
      "Loss after a iteration 3500:0.17223759738934277 || Accuracy: 95.49264705882354\n",
      "Loss after a iteration 3600:0.17016724861385651 || Accuracy: 95.59558823529412\n",
      "Loss after a iteration 3700:0.16951890141039738 || Accuracy: 95.625\n",
      "Loss after a iteration 3800:0.16622356713138683 || Accuracy: 95.66176470588236\n",
      "Loss after a iteration 3900:0.16478620619914744 || Accuracy: 95.73529411764706\n",
      "Loss after a iteration 4000:0.16282725034093018 || Accuracy: 95.81617647058823\n",
      "Loss after a iteration 4100:0.16117551492135 || Accuracy: 95.88970588235294\n",
      "Loss after a iteration 4200:0.16221456930354072 || Accuracy: 95.86764705882352\n",
      "Loss after a iteration 4300:0.15759647239251076 || Accuracy: 96.0220588235294\n",
      "Loss after a iteration 4400:0.1577979481574926 || Accuracy: 96.05882352941177\n",
      "Loss after a iteration 4500:0.15422336551413704 || Accuracy: 96.17647058823529\n",
      "Loss after a iteration 4600:0.1539642013490906 || Accuracy: 96.19852941176471\n",
      "Loss after a iteration 4700:0.15098716381858127 || Accuracy: 96.25\n",
      "Loss after a iteration 4800:0.15034622376012594 || Accuracy: 96.26470588235294\n",
      "Loss after a iteration 4900:0.1479556113661477 || Accuracy: 96.375\n",
      "Loss after a iteration 5000:0.14782043301906983 || Accuracy: 96.38235294117648\n",
      "Loss after a iteration 5100:0.1451115878068145 || Accuracy: 96.5220588235294\n",
      "Loss after a iteration 5200:0.14617332494071694 || Accuracy: 96.47058823529412\n",
      "Loss after a iteration 5300:0.14243252401091988 || Accuracy: 96.53676470588235\n",
      "Loss after a iteration 5400:0.14114893237153728 || Accuracy: 96.61029411764706\n",
      "Loss after a iteration 5500:0.14005834685534144 || Accuracy: 96.6029411764706\n",
      "Loss after a iteration 5600:0.13857847016372124 || Accuracy: 96.6764705882353\n",
      "Loss after a iteration 5700:0.13785694187752515 || Accuracy: 96.68382352941177\n",
      "Loss after a iteration 5800:0.13638278092847686 || Accuracy: 96.74264705882352\n",
      "Loss after a iteration 5900:0.1358174948877989 || Accuracy: 96.75735294117646\n",
      "Loss after a iteration 6000:0.13430041285317149 || Accuracy: 96.79411764705883\n",
      "Loss after a iteration 6100:0.13381749954973135 || Accuracy: 96.85294117647058\n",
      "Loss after a iteration 6200:0.13228565588310898 || Accuracy: 96.86029411764706\n",
      "Loss after a iteration 6300:0.13205892841858022 || Accuracy: 96.88970588235294\n",
      "Loss after a iteration 6400:0.1303900770838049 || Accuracy: 96.91176470588235\n",
      "Loss after a iteration 6500:0.13111047857998576 || Accuracy: 96.88235294117648\n",
      "Loss after a iteration 6600:0.12862975192139323 || Accuracy: 96.94117647058823\n",
      "Loss after a iteration 6700:0.1280857354672492 || Accuracy: 96.90441176470588\n",
      "Loss after a iteration 6800:0.12708158220115737 || Accuracy: 96.97058823529412\n",
      "Loss after a iteration 6900:0.12603196853748233 || Accuracy: 96.98529411764706\n",
      "Loss after a iteration 7000:0.12567632438440815 || Accuracy: 97.0\n",
      "Loss after a iteration 7100:0.12447626256281898 || Accuracy: 97.00735294117648\n",
      "Loss after a iteration 7200:0.12460405387699716 || Accuracy: 97.05147058823529\n",
      "Loss after a iteration 7300:0.12297917240512939 || Accuracy: 97.04411764705883\n",
      "Loss after a iteration 7400:0.3731200273712154 || Accuracy: 88.26470588235294\n",
      "Loss after a iteration 7500:0.12156076531402772 || Accuracy: 97.1029411764706\n",
      "Loss after a iteration 7600:0.12088321259408849 || Accuracy: 97.1470588235294\n",
      "Loss after a iteration 7700:0.12029793992528472 || Accuracy: 97.15441176470588\n",
      "Loss after a iteration 7800:0.11934710649275644 || Accuracy: 97.23529411764706\n",
      "Loss after a iteration 7900:0.3751853262205518 || Accuracy: 89.16176470588235\n",
      "Loss after a iteration 8000:0.11815085077581806 || Accuracy: 97.25\n",
      "Loss after a iteration 8100:0.117427003655826 || Accuracy: 97.25735294117646\n",
      "Loss after a iteration 8200:0.11722636636065437 || Accuracy: 97.27205882352942\n",
      "Loss after a iteration 8300:0.11624875893248442 || Accuracy: 97.29411764705883\n",
      "Loss after a iteration 8400:0.2578536453882357 || Accuracy: 91.125\n",
      "Loss after a iteration 8500:0.11519531410539126 || Accuracy: 97.33088235294117\n",
      "Loss after a iteration 8600:0.1145799062424446 || Accuracy: 97.33823529411765\n",
      "Loss after a iteration 8700:0.11450008672288638 || Accuracy: 97.33823529411765\n",
      "Loss after a iteration 8800:0.11366446826979658 || Accuracy: 97.36764705882352\n",
      "Loss after a iteration 8900:0.11494939621063084 || Accuracy: 97.25735294117646\n",
      "Loss after a iteration 9000:0.11279667057969762 || Accuracy: 97.375\n",
      "Loss after a iteration 9100:0.1126025297673923 || Accuracy: 97.38235294117648\n",
      "Loss after a iteration 9200:0.11206572033542092 || Accuracy: 97.36764705882352\n",
      "Loss after a iteration 9300:0.11143174903365939 || Accuracy: 97.41911764705883\n",
      "Loss after a iteration 9400:0.24412923178045332 || Accuracy: 91.33088235294117\n",
      "Loss after a iteration 9500:0.11074926389941869 || Accuracy: 97.41176470588235\n",
      "Loss after a iteration 9600:0.1102537526452794 || Accuracy: 97.43382352941177\n",
      "Loss after a iteration 9700:0.1105415416517878 || Accuracy: 97.41911764705883\n",
      "Loss after a iteration 9800:0.10951877375268808 || Accuracy: 97.43382352941177\n",
      "Loss after a iteration 9900:0.1110880680372813 || Accuracy: 97.44117647058823\n"
     ]
    },
    {
     "data": {
      "image/png": "[encoded data removed]",
      "text/plain": [
       "<Figure size 432x288 with 1 Axes>"
      ]
     },
     "metadata": {
      "needs_background": "light"
     },
     "output_type": "display_data"
    }
   ],
   "source": [
    "model  = Classifier(1024, [32,32, 10])\n",
    "model.forward_pass(X_train)\n",
    "loss = model.compute_loss_with_l2(model.output3_act, y_train)\n",
    "model.backward_pass_with_l2(y_train)\n"
   ]
  },
  {
   "cell_type": "code",
   "execution_count": 10,
   "id": "baaed3ed",
   "metadata": {},
   "outputs": [],
   "source": [
    "model.save_model()"
   ]
  },
  {
   "cell_type": "code",
   "execution_count": 31,
   "id": "7c876e7a",
   "metadata": {},
   "outputs": [
    {
     "data": {
      "text/plain": [
       "array([4.81698997e-05, 8.86685926e-04, 8.97632376e-04, 7.71747669e-01,\n",
       "       9.59224063e-04, 1.45842385e-02, 1.69192944e-01, 1.33229704e-02,\n",
       "       2.67895055e-06, 2.83577872e-02])"
      ]
     },
     "execution_count": 31,
     "metadata": {},
     "output_type": "execute_result"
    }
   ],
   "source": [
    "pr = model.predict(X_test)\n",
    "pr[0][]"
   ]
  },
  {
   "cell_type": "code",
   "execution_count": 29,
   "id": "63beb148",
   "metadata": {},
   "outputs": [
    {
     "ename": "IndexError",
     "evalue": "invalid index to scalar variable.",
     "output_type": "error",
     "traceback": [
      "\u001b[0;31m---------------------------------------------------------------------------\u001b[0m",
      "\u001b[0;31mIndexError\u001b[0m                                Traceback (most recent call last)",
      "Input \u001b[0;32mIn [29]\u001b[0m, in \u001b[0;36m<cell line: 1>\u001b[0;34m()\u001b[0m\n\u001b[0;32m----> 1\u001b[0m \u001b[43mpr_1\u001b[49m\u001b[43m[\u001b[49m\u001b[38;5;241;43m0\u001b[39;49m\u001b[43m]\u001b[49m\u001b[43m[\u001b[49m\u001b[38;5;241;43m3\u001b[39;49m\u001b[43m]\u001b[49m\n",
      "\u001b[0;31mIndexError\u001b[0m: invalid index to scalar variable."
     ]
    }
   ],
   "source": [
    "pr_1[0][3]"
   ]
  },
  {
   "cell_type": "code",
   "execution_count": 10,
   "id": "1023aade",
   "metadata": {},
   "outputs": [
    {
     "data": {
      "text/plain": [
       "10941    6\n",
       "5250     3\n",
       "10292    6\n",
       "2266     1\n",
       "6398     3\n",
       "        ..\n",
       "4706     2\n",
       "8404     4\n",
       "11114    6\n",
       "7877     4\n",
       "6188     3\n",
       "Name: character, Length: 3400, dtype: int64"
      ]
     },
     "execution_count": 10,
     "metadata": {},
     "output_type": "execute_result"
    }
   ],
   "source": []
  },
  {
   "cell_type": "code",
   "execution_count": 48,
   "id": "b0cfc35c",
   "metadata": {},
   "outputs": [
    {
     "data": {
      "image/png": "[encoded data removed]",
      "text/plain": [
       "<Figure size 576x360 with 1 Axes>"
      ]
     },
     "metadata": {
      "needs_background": "light"
     },
     "output_type": "display_data"
    }
   ],
   "source": [
    "indexs = np.arange(0, 100) * 100\n",
    "value = [x * 100 for x in model.loss_list]\n",
    "plt.figure(figsize = (8,5))\n",
    "plt.title(\"Training Loss of the Model\")\n",
    "plt.xlabel(\"Iterations\")\n",
    "plt.ylabel(\"Loss\")\n",
    "plt.plot(indexs,value)\n",
    "plt.show()"
   ]
  },
  {
   "cell_type": "code",
   "execution_count": 29,
   "id": "d462ed4d",
   "metadata": {},
   "outputs": [],
   "source": [
    "# model  = Classifier(1024, [32,16, 10])\n",
    "# model.forward_pass(X_train)\n",
    "# loss = model.compute_loss_with_l2(model.output3_act, y_train)\n",
    "# model.backward_pass(y_train)\n"
   ]
  },
  {
   "cell_type": "code",
   "execution_count": 42,
   "id": "759f6c77",
   "metadata": {},
   "outputs": [
    {
     "name": "stdout",
     "output_type": "stream",
     "text": [
      "Loss after a iteration 0:2.302677164824908 || Accuracy: 9.88970588235294\n",
      "Loss after a iteration 100:2.3025389759383508 || Accuracy: 9.88970588235294\n",
      "Loss after a iteration 200:2.302351830029192 || Accuracy: 9.88970588235294\n",
      "Loss after a iteration 300:2.3017235407476075 || Accuracy: 9.88970588235294\n",
      "Loss after a iteration 400:2.2929413144350352 || Accuracy: 21.404411764705884\n",
      "Loss after a iteration 500:1.6143845966005945 || Accuracy: 29.772058823529413\n",
      "Loss after a iteration 600:1.423897904104247 || Accuracy: 41.61764705882353\n",
      "Loss after a iteration 700:0.8854916359191214 || Accuracy: 66.31617647058825\n",
      "Loss after a iteration 800:0.6372958570952105 || Accuracy: 76.52941176470588\n",
      "Loss after a iteration 900:0.5454960065193428 || Accuracy: 79.02941176470588\n",
      "Loss after a iteration 1000:0.5032702979940298 || Accuracy: 80.83088235294117\n",
      "Loss after a iteration 1100:0.47472469876328915 || Accuracy: 83.41911764705883\n",
      "Loss after a iteration 1200:0.43057262951013375 || Accuracy: 86.66176470588235\n",
      "Loss after a iteration 1300:0.3828469975821947 || Accuracy: 88.78676470588235\n",
      "Loss after a iteration 1400:0.35975827185091636 || Accuracy: 89.40441176470588\n",
      "Loss after a iteration 1500:0.3470982703674689 || Accuracy: 89.79411764705883\n",
      "Loss after a iteration 1600:0.33681875953964996 || Accuracy: 90.13970588235294\n",
      "Loss after a iteration 1700:0.3279748757707646 || Accuracy: 90.4264705882353\n",
      "Loss after a iteration 1800:0.31908318847981276 || Accuracy: 90.81617647058823\n",
      "Loss after a iteration 1900:0.30989515146194346 || Accuracy: 91.05882352941177\n",
      "Loss after a iteration 2000:0.29929196663209734 || Accuracy: 91.54411764705883\n",
      "Loss after a iteration 2100:0.2874617624111387 || Accuracy: 92.07352941176471\n",
      "Loss after a iteration 2200:0.2763098060414592 || Accuracy: 92.36764705882354\n",
      "Loss after a iteration 2300:0.26694142469572546 || Accuracy: 92.63970588235294\n",
      "Loss after a iteration 2400:0.2587586295641177 || Accuracy: 92.84558823529412\n",
      "Loss after a iteration 2500:0.2517297910854554 || Accuracy: 93.125\n",
      "Loss after a iteration 2600:0.244999777925549 || Accuracy: 93.32352941176471\n",
      "Loss after a iteration 2700:0.23850967340352935 || Accuracy: 93.5514705882353\n",
      "Loss after a iteration 2800:0.23275451897443966 || Accuracy: 93.79411764705883\n",
      "Loss after a iteration 2900:0.22869561034384447 || Accuracy: 93.86764705882354\n",
      "Loss after a iteration 3000:0.22802265796044383 || Accuracy: 93.90441176470588\n",
      "Loss after a iteration 3100:0.2405705075244186 || Accuracy: 93.15441176470588\n",
      "Loss after a iteration 3200:0.21092529334526344 || Accuracy: 94.38970588235294\n",
      "Loss after a iteration 3300:0.2079088401130079 || Accuracy: 94.4779411764706\n",
      "Loss after a iteration 3400:0.2053395217460258 || Accuracy: 94.5735294117647\n",
      "Loss after a iteration 3500:0.20301777959421863 || Accuracy: 94.61764705882352\n",
      "Loss after a iteration 3600:0.20143485759737093 || Accuracy: 94.63970588235294\n",
      "Loss after a iteration 3700:0.20091197534208002 || Accuracy: 94.69852941176471\n",
      "Loss after a iteration 3800:0.32679981255391527 || Accuracy: 88.41176470588236\n",
      "Loss after a iteration 3900:0.19435445212797603 || Accuracy: 94.91176470588235\n",
      "Loss after a iteration 4000:0.19266035080626032 || Accuracy: 95.0220588235294\n",
      "Loss after a iteration 4100:0.1913428537325238 || Accuracy: 95.05882352941177\n",
      "Loss after a iteration 4200:0.19036458884939508 || Accuracy: 95.0735294117647\n",
      "Loss after a iteration 4300:0.3695286788519291 || Accuracy: 87.58088235294117\n",
      "Loss after a iteration 4400:0.1862380149707637 || Accuracy: 95.23529411764706\n",
      "Loss after a iteration 4500:0.18453319062073648 || Accuracy: 95.27205882352942\n",
      "Loss after a iteration 4600:0.18334981885411586 || Accuracy: 95.32352941176471\n",
      "Loss after a iteration 4700:0.18390251001814817 || Accuracy: 95.31617647058823\n",
      "Loss after a iteration 4800:0.18008765864575782 || Accuracy: 95.36029411764706\n",
      "Loss after a iteration 4900:0.17852427084990227 || Accuracy: 95.44117647058825\n",
      "Loss after a iteration 5000:0.17736345961969846 || Accuracy: 95.4779411764706\n",
      "Loss after a iteration 5100:0.17716972691344401 || Accuracy: 95.5\n",
      "Loss after a iteration 5200:0.18398154016721738 || Accuracy: 94.79411764705883\n",
      "Loss after a iteration 5300:0.17301654951488807 || Accuracy: 95.6029411764706\n",
      "Loss after a iteration 5400:0.17201830811080654 || Accuracy: 95.63970588235294\n",
      "Loss after a iteration 5500:0.17138867683574902 || Accuracy: 95.67647058823529\n",
      "Loss after a iteration 5600:0.30184220202294443 || Accuracy: 89.01470588235294\n",
      "Loss after a iteration 5700:0.16848475554092388 || Accuracy: 95.69117647058823\n",
      "Loss after a iteration 5800:0.16774606960522756 || Accuracy: 95.75\n",
      "Loss after a iteration 5900:0.1673255313274211 || Accuracy: 95.78676470588235\n"
     ]
    }
   ],
   "source": [
    "model  = Classifier(1024, [32,32, 10])\n",
    "model.forward_pass(X_train)\n",
    "loss = model.compute_loss_with_l2(model.output3_act, y_train)\n",
    "model.backward_pass_with_l2(y_train, iteration = 6000)"
   ]
  },
  {
   "cell_type": "code",
   "execution_count": 43,
   "id": "a80cde9c",
   "metadata": {},
   "outputs": [],
   "source": [
    "# saving the model\n",
    "model.save_model(f'model.pkl')"
   ]
  },
  {
   "cell_type": "code",
   "execution_count": 7,
   "id": "8268bf2d",
   "metadata": {},
   "outputs": [
    {
     "name": "stdout",
     "output_type": "stream",
     "text": [
      "Test Accuracy of the model: 88.17647058823529\n"
     ]
    }
   ],
   "source": [
    "y_test_pred = model.predict(X_test)\n",
    "y_acc = np.mean((y_test == y_test_pred))\n",
    "print(f'Test Accuracy of the model: {y_acc * 100}')"
   ]
  },
  {
   "cell_type": "code",
   "execution_count": 8,
   "id": "68ffe91d",
   "metadata": {},
   "outputs": [
    {
     "data": {
      "text/plain": [
       "array([3, 3, 6, ..., 6, 4, 3])"
      ]
     },
     "execution_count": 8,
     "metadata": {},
     "output_type": "execute_result"
    }
   ],
   "source": [
    "y_test_pred"
   ]
  },
  {
   "cell_type": "code",
   "execution_count": 10,
   "id": "c7892a78",
   "metadata": {},
   "outputs": [],
   "source": [
    "weights = {'1': model.weights1, '2': model.weights2, '3': model.weights3, \n",
    "           'b1':model.biases1,'b2':model.biases1,'b3':model.biases1}"
   ]
  },
  {
   "cell_type": "code",
   "execution_count": 11,
   "id": "2cbcf294",
   "metadata": {},
   "outputs": [],
   "source": [
    "import pickle\n",
    "filename = 'base_model_weights_88.pkl'\n",
    "pickle.dump(weights, open(filename, 'wb'))"
   ]
  },
  {
   "cell_type": "code",
   "execution_count": 11,
   "id": "c00ff0a9",
   "metadata": {},
   "outputs": [],
   "source": [
    "import pickle\n",
    "filename = 'base_model_100.pkl'\n",
    "pickle.dump(model, open(filename, 'wb'))"
   ]
  },
  {
   "cell_type": "code",
   "execution_count": 12,
   "id": "daecd9fb",
   "metadata": {},
   "outputs": [
    {
     "name": "stdout",
     "output_type": "stream",
     "text": [
      "[6 2 6 ... 6 4 3]\n"
     ]
    }
   ],
   "source": [
    "loaded_model = pickle.load(open(filename, 'rb'))\n",
    "result = loaded_model.predict(X_test)\n",
    "print(result)"
   ]
  },
  {
   "cell_type": "code",
   "execution_count": null,
   "id": "1997142e",
   "metadata": {},
   "outputs": [],
   "source": []
  },
  {
   "cell_type": "code",
   "execution_count": null,
   "id": "6402f6ab",
   "metadata": {},
   "outputs": [],
   "source": []
  },
  {
   "cell_type": "code",
   "execution_count": 56,
   "id": "afb27453",
   "metadata": {},
   "outputs": [
    {
     "data": {
      "text/plain": [
       "(1024,)"
      ]
     },
     "execution_count": 56,
     "metadata": {},
     "output_type": "execute_result"
    }
   ],
   "source": [
    "import PIL\n",
    "from PIL import Image\n",
    "# foo = Image.open('dataset/Test/digit_0/103277.png')  # My image is a 200x374 jpeg that is 102kb large\n",
    "foo = Image.open('number-5.png')\n",
    "foo= foo.convert('L')\n",
    "foo = foo.resize((32,32))\n",
    "# print(foo.size)  # (200, 374)\n",
    "image = np.array(foo)\n",
    "\n",
    "image = image.reshape(-1)\n",
    "image.shape"
   ]
  },
  {
   "cell_type": "code",
   "execution_count": 57,
   "id": "16ba2861",
   "metadata": {},
   "outputs": [],
   "source": [
    "data = Image.fromarray(image)\n",
    "      \n",
    "    # saving the final output \n",
    "    # as a PNG file\n",
    "data.save('gfg_dummy_pic.png')"
   ]
  },
  {
   "cell_type": "code",
   "execution_count": 58,
   "id": "13f74b68",
   "metadata": {},
   "outputs": [
    {
     "data": {
      "text/plain": [
       "array([5])"
      ]
     },
     "execution_count": 58,
     "metadata": {},
     "output_type": "execute_result"
    }
   ],
   "source": [
    "model.predict(image)"
   ]
  },
  {
   "cell_type": "code",
   "execution_count": null,
   "id": "ea18d14d",
   "metadata": {},
   "outputs": [],
   "source": [
    "# from fastapi import FastAPI, File\n",
    "# from fastapi.middleware.cors import CORSMiddleware\n",
    "# from PIL import Image\n",
    "# import io\n",
    "# import pickle\n",
    "# import numpy as np\n",
    "# import pandas as pd\n",
    "# import uvicorn\n",
    "# # import Classifier\n",
    "\n",
    "# app = FastAPI()\n",
    "# origins = [\n",
    "#     'http://localhost:8000',\n",
    "# ]\n",
    "# model = Classifier(1024, [32,32,10])\n",
    "# filename = 'base_model.pkl'\n",
    "# loaded_model = pickle.load(open(filename, 'rb'))\n",
    "# # print(loaded_model.weights1)\n",
    "# result = loaded_model.predict(X_test)\n",
    "\n",
    "# @app.get(\"/\")\n",
    "# async def root():\n",
    "#     return {\"message\": \"Wrong Method\"}\n",
    "\n",
    "# @app.post(\"/image\")\n",
    "# async def upload(file: bytes = File(...)):\n",
    "#     print(result)\n",
    "#     image = Image.open(io.BytesIO(file))\n",
    "# #     image.show()\n",
    "#     image = np.array(image)\n",
    "# #     image = image.resize((32, 32))\n",
    "# #     image = image.reshape(-1,)\n",
    "#     print(image.shape)\n",
    "#     # result = model.predict(image)\n",
    "#     print(\"The result is :\", result)\n",
    "#     return {\"Upload Status\": \"Complete\"}\n",
    "\n",
    "\n",
    "\n",
    "# if __name__ == '__main__':\n",
    "#     config = uvicorn.Config(app)\n",
    "#     server = uvicorn.Server(config)\n",
    "#     await server.serve()"
   ]
  },
  {
   "cell_type": "code",
   "execution_count": null,
   "id": "fccc7772",
   "metadata": {},
   "outputs": [],
   "source": []
  }
 ],
 "metadata": {
  "kernelspec": {
   "display_name": "Python 3 (ipykernel)",
   "language": "python",
   "name": "python3"
  },
  "language_info": {
   "codemirror_mode": {
    "name": "ipython",
    "version": 3
   },
   "file_extension": ".py",
   "mimetype": "text/x-python",
   "name": "python",
   "nbconvert_exporter": "python",
   "pygments_lexer": "ipython3",
   "version": "3.9.12"
  }
 },
 "nbformat": 4,
 "nbformat_minor": 5
}
